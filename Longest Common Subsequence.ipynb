{
 "cells": [
  {
   "cell_type": "code",
   "execution_count": 1,
   "metadata": {},
   "outputs": [],
   "source": [
    "import random, string"
   ]
  },
  {
   "cell_type": "code",
   "execution_count": 2,
   "metadata": {},
   "outputs": [],
   "source": [
    "def random_string(n):\n",
    "    return ''.join(random.choice(string.ascii_lowercase) for i in range(n))"
   ]
  },
  {
   "cell_type": "code",
   "execution_count": 3,
   "metadata": {},
   "outputs": [
    {
     "name": "stdout",
     "output_type": "stream",
     "text": [
      "wdsafwvbae sakomvdjwq\n"
     ]
    }
   ],
   "source": [
    "X = random_string(10)\n",
    "Y = random_string(10)\n",
    "print(X, Y)"
   ]
  },
  {
   "cell_type": "code",
   "execution_count": 4,
   "metadata": {},
   "outputs": [],
   "source": [
    "def find_lcs(X, Y):\n",
    "    Z_length = [[0]*(len(X)+1) for i in range(len(Y)+1)]\n",
    "    Z_direction = [['0️⃣']*(len(X)+1) for i in range(len(Y)+1)]\n",
    "    for x1, x in enumerate(X):\n",
    "        for y1, y in enumerate(Y):\n",
    "            i = x1+1\n",
    "            j = y1+1\n",
    "            if x == y:\n",
    "                Z_length[i][j] = Z_length[i-1][j-1]+1\n",
    "                Z_direction[i][j] = '🆗'\n",
    "            elif Z_length[i-1][j] >= Z_length[i][j-1]:\n",
    "                Z_length[i][j] = Z_length[i-1][j]\n",
    "                Z_direction[i][j] = '🔝'\n",
    "            else:\n",
    "                Z_length[i][j] = Z_length[i][j-1]\n",
    "                Z_direction[i][j] = '🔙'\n",
    "    return Z_length, Z_direction"
   ]
  },
  {
   "cell_type": "code",
   "execution_count": 5,
   "metadata": {},
   "outputs": [],
   "source": [
    "Z_length, Z_direction = find_lcs(X, Y)"
   ]
  },
  {
   "cell_type": "code",
   "execution_count": 6,
   "metadata": {},
   "outputs": [
    {
     "data": {
      "text/plain": [
       "[[0, 0, 0, 0, 0, 0, 0, 0, 0, 0, 0],\n",
       " [0, 0, 0, 0, 0, 0, 0, 0, 0, 1, 1],\n",
       " [0, 0, 0, 0, 0, 0, 0, 1, 1, 1, 1],\n",
       " [0, 1, 1, 1, 1, 1, 1, 1, 1, 1, 1],\n",
       " [0, 1, 2, 2, 2, 2, 2, 2, 2, 2, 2],\n",
       " [0, 1, 2, 2, 2, 2, 2, 2, 2, 2, 2],\n",
       " [0, 1, 2, 2, 2, 2, 2, 2, 2, 3, 3],\n",
       " [0, 1, 2, 2, 2, 2, 3, 3, 3, 3, 3],\n",
       " [0, 1, 2, 2, 2, 2, 3, 3, 3, 3, 3],\n",
       " [0, 1, 2, 2, 2, 2, 3, 3, 3, 3, 3],\n",
       " [0, 1, 2, 2, 2, 2, 3, 3, 3, 3, 3]]"
      ]
     },
     "execution_count": 6,
     "metadata": {},
     "output_type": "execute_result"
    }
   ],
   "source": [
    "Z_length"
   ]
  },
  {
   "cell_type": "code",
   "execution_count": 7,
   "metadata": {},
   "outputs": [
    {
     "data": {
      "text/plain": [
       "[['0️⃣', '0️⃣', '0️⃣', '0️⃣', '0️⃣', '0️⃣', '0️⃣', '0️⃣', '0️⃣', '0️⃣', '0️⃣'],\n",
       " ['0️⃣', '🔝', '🔝', '🔝', '🔝', '🔝', '🔝', '🔝', '🔝', '🆗', '🔙'],\n",
       " ['0️⃣', '🔝', '🔝', '🔝', '🔝', '🔝', '🔝', '🆗', '🔙', '🔝', '🔝'],\n",
       " ['0️⃣', '🆗', '🔙', '🔙', '🔙', '🔙', '🔙', '🔝', '🔝', '🔝', '🔝'],\n",
       " ['0️⃣', '🔝', '🆗', '🔙', '🔙', '🔙', '🔙', '🔙', '🔙', '🔙', '🔙'],\n",
       " ['0️⃣', '🔝', '🔝', '🔝', '🔝', '🔝', '🔝', '🔝', '🔝', '🔝', '🔝'],\n",
       " ['0️⃣', '🔝', '🔝', '🔝', '🔝', '🔝', '🔝', '🔝', '🔝', '🆗', '🔙'],\n",
       " ['0️⃣', '🔝', '🔝', '🔝', '🔝', '🔝', '🆗', '🔙', '🔙', '🔝', '🔝'],\n",
       " ['0️⃣', '🔝', '🔝', '🔝', '🔝', '🔝', '🔝', '🔝', '🔝', '🔝', '🔝'],\n",
       " ['0️⃣', '🔝', '🆗', '🔝', '🔝', '🔝', '🔝', '🔝', '🔝', '🔝', '🔝'],\n",
       " ['0️⃣', '🔝', '🔝', '🔝', '🔝', '🔝', '🔝', '🔝', '🔝', '🔝', '🔝']]"
      ]
     },
     "execution_count": 7,
     "metadata": {},
     "output_type": "execute_result"
    }
   ],
   "source": [
    "Z_direction"
   ]
  },
  {
   "cell_type": "code",
   "execution_count": 8,
   "metadata": {},
   "outputs": [],
   "source": [
    "def get_lcs(Z_direction, X, i, j, result):\n",
    "    if i is 0 or j is 0:\n",
    "        return ;\n",
    "    if Z_direction[i][j] == '🆗':\n",
    "        get_lcs(Z_direction, X, i-1, j-1, result)\n",
    "        result.append(X[i-1])\n",
    "    elif Z_direction[i][j] == '🔝':\n",
    "        get_lcs(Z_direction, X, i-1, j, result)\n",
    "    else:\n",
    "        get_lcs(Z_direction, X, i, j-1, result)"
   ]
  },
  {
   "cell_type": "code",
   "execution_count": 9,
   "metadata": {},
   "outputs": [],
   "source": [
    "result=[]\n",
    "get_lcs(Z_direction, X, len(X), len(Y), result)"
   ]
  },
  {
   "cell_type": "code",
   "execution_count": 10,
   "metadata": {},
   "outputs": [
    {
     "name": "stdout",
     "output_type": "stream",
     "text": [
      "LCS: saw\n"
     ]
    }
   ],
   "source": [
    "print(f'LCS: {\"\".join(result)}')"
   ]
  },
  {
   "cell_type": "code",
   "execution_count": 11,
   "metadata": {},
   "outputs": [
    {
     "name": "stdout",
     "output_type": "stream",
     "text": [
      "LCS Length:3\n"
     ]
    }
   ],
   "source": [
    "print(f'LCS Length:{len(result)}')"
   ]
  },
  {
   "cell_type": "code",
   "execution_count": null,
   "metadata": {},
   "outputs": [],
   "source": []
  }
 ],
 "metadata": {
  "kernelspec": {
   "display_name": "Python 3",
   "language": "python",
   "name": "python3"
  },
  "language_info": {
   "codemirror_mode": {
    "name": "ipython",
    "version": 3
   },
   "file_extension": ".py",
   "mimetype": "text/x-python",
   "name": "python",
   "nbconvert_exporter": "python",
   "pygments_lexer": "ipython3",
   "version": "3.7.3"
  }
 },
 "nbformat": 4,
 "nbformat_minor": 2
}
